{
 "cells": [
  {
   "cell_type": "code",
   "execution_count": 1,
   "metadata": {},
   "outputs": [],
   "source": [
    "import cv2\n",
    "import serial\n",
    "from time import sleep"
   ]
  },
  {
   "cell_type": "code",
   "execution_count": 7,
   "metadata": {},
   "outputs": [],
   "source": [
    "haarcascade = cv2.CascadeClassifier('utils/haarcascade_frontalface_default.xml')\n",
    "\n",
    "cap = cv2.VideoCapture('trash/test.mov')\n",
    "\n",
    "with serial.Serial('/dev/ttyACM0', 9600, timeout=1) as s:\n",
    "    while cap.isOpened():\n",
    "        ret, frame = cap.read()\n",
    "        faces = haarcascade.detectMultiScale(cv2.cvtColor(frame, cv2.COLOR_BGR2GRAY), 1.3, 5)\n",
    "        \n",
    "        cv2.imshow(frame)\n",
    "        \n",
    "        state = s.read()\n",
    "\n",
    "        if len(faces) > 0 and state == b'0':\n",
    "            s.write(b'l')\n",
    "\n",
    "        if len(faces) == 0 and state == b'1':\n",
    "            s.write(b'l')\n",
    "\n",
    "        if cv2.waitKey(1) & 0xFF == ord('q'):\n",
    "            break"
   ]
  },
  {
   "cell_type": "code",
   "execution_count": null,
   "metadata": {},
   "outputs": [],
   "source": []
  }
 ],
 "metadata": {
  "kernelspec": {
   "display_name": "Python 3",
   "language": "python",
   "name": "python3"
  },
  "language_info": {
   "codemirror_mode": {
    "name": "ipython",
    "version": 3
   },
   "file_extension": ".py",
   "mimetype": "text/x-python",
   "name": "python",
   "nbconvert_exporter": "python",
   "pygments_lexer": "ipython3",
   "version": "3.5.2"
  }
 },
 "nbformat": 4,
 "nbformat_minor": 2
}
